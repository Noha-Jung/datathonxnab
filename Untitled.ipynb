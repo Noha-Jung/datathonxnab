{
 "cells": [
  {
   "cell_type": "code",
   "execution_count": null,
   "id": "2abc91e8",
   "metadata": {},
   "outputs": [],
   "source": [
    "import pandas as pd\n",
    "import numpy as np\n",
    "import matplotlib.pyplot as plt\n",
    "import seaborn as sns\n",
    "from scipy.stats import chi2_contingency"
   ]
  },
  {
   "cell_type": "code",
   "execution_count": null,
   "id": "7ddd4e51",
   "metadata": {},
   "outputs": [
    {
     "name": "stderr",
     "output_type": "stream",
     "text": [
      "C:\\Users\\macka\\AppData\\Local\\Temp\\ipykernel_32580\\1563159184.py:1: DtypeWarning: Columns (16) have mixed types. Specify dtype option on import or set low_memory=False.\n",
      "  df = pd.read_csv('DATASET.csv')\n"
     ]
    }
   ],
   "source": [
    "df = pd.read_csv('DATASET.csv')"
   ]
  },
  {
   "cell_type": "code",
   "execution_count": 161,
   "id": "f419ef7a",
   "metadata": {},
   "outputs": [
    {
     "data": {
      "text/html": [
       "<div>\n",
       "<style scoped>\n",
       "    .dataframe tbody tr th:only-of-type {\n",
       "        vertical-align: middle;\n",
       "    }\n",
       "\n",
       "    .dataframe tbody tr th {\n",
       "        vertical-align: top;\n",
       "    }\n",
       "\n",
       "    .dataframe thead th {\n",
       "        text-align: right;\n",
       "    }\n",
       "</style>\n",
       "<table border=\"1\" class=\"dataframe\">\n",
       "  <thead>\n",
       "    <tr style=\"text-align: right;\">\n",
       "      <th></th>\n",
       "      <th>Year</th>\n",
       "      <th>Jurisdiction</th>\n",
       "      <th>Category</th>\n",
       "      <th>Type</th>\n",
       "      <th>Classification</th>\n",
       "      <th>Total type</th>\n",
       "      <th>Stream</th>\n",
       "      <th>Management</th>\n",
       "      <th>Fate</th>\n",
       "      <th>Tonnes</th>\n",
       "      <th>Core or non-core</th>\n",
       "      <th>Sub-stream</th>\n",
       "      <th>Cat. order</th>\n",
       "      <th>Cat. no.</th>\n",
       "      <th>Type order</th>\n",
       "      <th>Type no.</th>\n",
       "      <th></th>\n",
       "    </tr>\n",
       "  </thead>\n",
       "  <tbody>\n",
       "    <tr>\n",
       "      <th>0</th>\n",
       "      <td>2020-2021</td>\n",
       "      <td>ACT</td>\n",
       "      <td>Biosolids</td>\n",
       "      <td>Biosolids</td>\n",
       "      <td>Type</td>\n",
       "      <td>NaN</td>\n",
       "      <td>C&amp;I</td>\n",
       "      <td>Other disposal</td>\n",
       "      <td>Disposal</td>\n",
       "      <td>20,186</td>\n",
       "      <td>Core waste</td>\n",
       "      <td>03 C&amp;I core</td>\n",
       "      <td>03 Organics</td>\n",
       "      <td>C3</td>\n",
       "      <td>14 Biosolids</td>\n",
       "      <td>T14</td>\n",
       "      <td>NaN</td>\n",
       "    </tr>\n",
       "    <tr>\n",
       "      <th>1</th>\n",
       "      <td>2020-2021</td>\n",
       "      <td>ACT</td>\n",
       "      <td>Biosolids</td>\n",
       "      <td>Biosolids</td>\n",
       "      <td>Type</td>\n",
       "      <td>NaN</td>\n",
       "      <td>C&amp;I</td>\n",
       "      <td>Recycling</td>\n",
       "      <td>Recycling</td>\n",
       "      <td>0</td>\n",
       "      <td>Core waste</td>\n",
       "      <td>03 C&amp;I core</td>\n",
       "      <td>03 Organics</td>\n",
       "      <td>C3</td>\n",
       "      <td>14 Biosolids</td>\n",
       "      <td>T14</td>\n",
       "      <td>NaN</td>\n",
       "    </tr>\n",
       "    <tr>\n",
       "      <th>2</th>\n",
       "      <td>2020-2021</td>\n",
       "      <td>ACT</td>\n",
       "      <td>Biosolids</td>\n",
       "      <td>Biosolids</td>\n",
       "      <td>Type</td>\n",
       "      <td>NaN</td>\n",
       "      <td>Total</td>\n",
       "      <td>Other disposal</td>\n",
       "      <td>Disposal</td>\n",
       "      <td>20,186</td>\n",
       "      <td>Core waste</td>\n",
       "      <td>09 Total</td>\n",
       "      <td>03 Organics</td>\n",
       "      <td>C3</td>\n",
       "      <td>14 Biosolids</td>\n",
       "      <td>T14</td>\n",
       "      <td>NaN</td>\n",
       "    </tr>\n",
       "    <tr>\n",
       "      <th>3</th>\n",
       "      <td>2020-2021</td>\n",
       "      <td>ACT</td>\n",
       "      <td>Biosolids</td>\n",
       "      <td>Biosolids</td>\n",
       "      <td>Type</td>\n",
       "      <td>NaN</td>\n",
       "      <td>Total</td>\n",
       "      <td>Recycling</td>\n",
       "      <td>Recycling</td>\n",
       "      <td>0</td>\n",
       "      <td>Core waste</td>\n",
       "      <td>09 Total</td>\n",
       "      <td>03 Organics</td>\n",
       "      <td>C3</td>\n",
       "      <td>14 Biosolids</td>\n",
       "      <td>T14</td>\n",
       "      <td>NaN</td>\n",
       "    </tr>\n",
       "    <tr>\n",
       "      <th>4</th>\n",
       "      <td>2020-2021</td>\n",
       "      <td>ACT</td>\n",
       "      <td>Biosolids</td>\n",
       "      <td>NaN</td>\n",
       "      <td>Category</td>\n",
       "      <td>NaN</td>\n",
       "      <td>C&amp;I</td>\n",
       "      <td>Other disposal</td>\n",
       "      <td>Disposal</td>\n",
       "      <td>20,186</td>\n",
       "      <td>Core waste</td>\n",
       "      <td>03 C&amp;I core</td>\n",
       "      <td>03 Organics</td>\n",
       "      <td>C3</td>\n",
       "      <td>NaN</td>\n",
       "      <td>NaN</td>\n",
       "      <td>NaN</td>\n",
       "    </tr>\n",
       "  </tbody>\n",
       "</table>\n",
       "</div>"
      ],
      "text/plain": [
       "        Year Jurisdiction   Category       Type Classification Total type  \\\n",
       "0  2020-2021          ACT  Biosolids  Biosolids           Type        NaN   \n",
       "1  2020-2021          ACT  Biosolids  Biosolids           Type        NaN   \n",
       "2  2020-2021          ACT  Biosolids  Biosolids           Type        NaN   \n",
       "3  2020-2021          ACT  Biosolids  Biosolids           Type        NaN   \n",
       "4  2020-2021          ACT  Biosolids        NaN       Category        NaN   \n",
       "\n",
       "  Stream      Management       Fate  Tonnes Core or non-core   Sub-stream  \\\n",
       "0    C&I  Other disposal   Disposal  20,186       Core waste  03 C&I core   \n",
       "1    C&I       Recycling  Recycling       0       Core waste  03 C&I core   \n",
       "2  Total  Other disposal   Disposal  20,186       Core waste     09 Total   \n",
       "3  Total       Recycling  Recycling       0       Core waste     09 Total   \n",
       "4    C&I  Other disposal   Disposal  20,186       Core waste  03 C&I core   \n",
       "\n",
       "    Cat. order Cat. no.    Type order Type no.       \n",
       "0  03 Organics       C3  14 Biosolids      T14  NaN  \n",
       "1  03 Organics       C3  14 Biosolids      T14  NaN  \n",
       "2  03 Organics       C3  14 Biosolids      T14  NaN  \n",
       "3  03 Organics       C3  14 Biosolids      T14  NaN  \n",
       "4  03 Organics       C3           NaN      NaN  NaN  "
      ]
     },
     "execution_count": 161,
     "metadata": {},
     "output_type": "execute_result"
    }
   ],
   "source": [
    "df.head()"
   ]
  },
  {
   "cell_type": "code",
   "execution_count": 162,
   "id": "f6f4d95a",
   "metadata": {},
   "outputs": [
    {
     "data": {
      "text/plain": [
       "(71496, 17)"
      ]
     },
     "execution_count": 162,
     "metadata": {},
     "output_type": "execute_result"
    }
   ],
   "source": [
    "df.shape"
   ]
  },
  {
   "cell_type": "code",
   "execution_count": 163,
   "id": "783afa26",
   "metadata": {},
   "outputs": [],
   "source": [
    "df = df.drop_duplicates()"
   ]
  },
  {
   "cell_type": "code",
   "execution_count": 164,
   "id": "d35dc98c",
   "metadata": {},
   "outputs": [
    {
     "name": "stdout",
     "output_type": "stream",
     "text": [
      "<class 'pandas.core.frame.DataFrame'>\n",
      "Int64Index: 71424 entries, 0 to 71495\n",
      "Data columns (total 17 columns):\n",
      " #   Column            Non-Null Count  Dtype \n",
      "---  ------            --------------  ----- \n",
      " 0   Year              71424 non-null  object\n",
      " 1   Jurisdiction      71424 non-null  object\n",
      " 2   Category          71424 non-null  object\n",
      " 3   Type              54156 non-null  object\n",
      " 4   Classification    71424 non-null  object\n",
      " 5   Total type        4901 non-null   object\n",
      " 6   Stream            71424 non-null  object\n",
      " 7   Management        71424 non-null  object\n",
      " 8   Fate              71424 non-null  object\n",
      " 9   Tonnes            71424 non-null  object\n",
      " 10  Core or non-core  71424 non-null  object\n",
      " 11  Sub-stream        71424 non-null  object\n",
      " 12  Cat. order        71424 non-null  object\n",
      " 13  Cat. no.          71424 non-null  object\n",
      " 14  Type order        54162 non-null  object\n",
      " 15  Type no.          54162 non-null  object\n",
      " 16                    8608 non-null   object\n",
      "dtypes: object(17)\n",
      "memory usage: 9.8+ MB\n"
     ]
    }
   ],
   "source": [
    "df.info()"
   ]
  },
  {
   "cell_type": "code",
   "execution_count": 165,
   "id": "c57790ee",
   "metadata": {},
   "outputs": [],
   "source": [
    "unique_categories = df['Category'].unique()\n",
    "unique_types = df['Type'].unique()"
   ]
  },
  {
   "cell_type": "code",
   "execution_count": 166,
   "id": "a2b4d20c",
   "metadata": {},
   "outputs": [],
   "source": [
    "df = df.drop('Total type', axis=1)"
   ]
  },
  {
   "cell_type": "code",
   "execution_count": 167,
   "id": "ef3fef22",
   "metadata": {},
   "outputs": [],
   "source": [
    "df['Tonnes'] = df['Tonnes'].str.replace(',', '')\n",
    "df['Tonnes'] = df['Tonnes'].astype(int)"
   ]
  },
  {
   "cell_type": "code",
   "execution_count": 168,
   "id": "6200cb3a",
   "metadata": {},
   "outputs": [
    {
     "data": {
      "text/plain": [
       "Jurisdiction\n",
       "ACT            51689966\n",
       "Australia    6462452335\n",
       "NSW          2116305322\n",
       "NT            298870967\n",
       "Qld          1507767236\n",
       "SA            649713662\n",
       "Tas            89015273\n",
       "Vic          1090419793\n",
       "WA           2974201365\n",
       "Name: Tonnes, dtype: int64"
      ]
     },
     "execution_count": 168,
     "metadata": {},
     "output_type": "execute_result"
    }
   ],
   "source": [
    "agg_sum = df.groupby(['Jurisdiction'])['Tonnes'].sum()\n",
    "agg_sum"
   ]
  },
  {
   "cell_type": "code",
   "execution_count": 169,
   "id": "2ff2fcc1",
   "metadata": {},
   "outputs": [
    {
     "data": {
      "image/png": "[encoded data removed]",
      "text/plain": [
       "<Figure size 1200x600 with 1 Axes>"
      ]
     },
     "metadata": {},
     "output_type": "display_data"
    }
   ],
   "source": [
    "state_tonne_sums = []\n",
    "state_names = ['ACT', 'AUS', 'NSW', 'NT', 'QLD', 'SA', 'TAS', 'VIC', 'WA']\n",
    "for i in range(len(agg_sum)):\n",
    "    state_tonne_sums.append(agg_sum[i])\n",
    "    \n",
    "plt.figure(figsize=(12, 6))\n",
    "plt.bar(state_names, state_tonne_sums, color = '#FFD3A3', edgecolor='black', linewidth=1)\n",
    "plt.xlabel(\"State/territory\")\n",
    "plt.ylabel(\"Tonnes of waste (billions)\")\n",
    "plt.title(\"Total tonnes of waste produced by each state/territory\")\n",
    "plt.show()"
   ]
  },
  {
   "cell_type": "code",
   "execution_count": 170,
   "id": "6d7d8338",
   "metadata": {},
   "outputs": [
    {
     "name": "stdout",
     "output_type": "stream",
     "text": [
      "Sum of waste from all states and territories combined is 8777983584 tonnes\n",
      "Total waste in Australia???? 6462452335 tonnes\n"
     ]
    }
   ],
   "source": [
    "other_states = 0\n",
    "for i in range(len(state_tonne_sums)):\n",
    "    if i != 1:\n",
    "        other_states += agg_sum[i]\n",
    "print(f\"Sum of waste from all states and territories combined is {other_states} tonnes\")\n",
    "print(f\"Total waste in Australia???? {state_tonne_sums[1]} tonnes\")"
   ]
  },
  {
   "cell_type": "code",
   "execution_count": 171,
   "id": "5fc158f0",
   "metadata": {},
   "outputs": [],
   "source": [
    "filtered_df = df[df['Year'] != '2007-2008']\n",
    "filtered_df = filtered_df[filtered_df['Year'] != '2011-2012']\n",
    "filtered_df = filtered_df[filtered_df['Year'] != '2012-2013']"
   ]
  },
  {
   "cell_type": "code",
   "execution_count": 172,
   "id": "30b8cb11",
   "metadata": {},
   "outputs": [
    {
     "data": {
      "text/plain": [
       "(62160, 16)"
      ]
     },
     "execution_count": 172,
     "metadata": {},
     "output_type": "execute_result"
    }
   ],
   "source": [
    "filtered_df.shape"
   ]
  },
  {
   "cell_type": "code",
   "execution_count": 173,
   "id": "9d00be6f",
   "metadata": {},
   "outputs": [
    {
     "data": {
      "text/plain": [
       "Jurisdiction\n",
       "ACT            51430093\n",
       "Australia    6462452335\n",
       "NSW          2091755872\n",
       "NT            298272254\n",
       "Qld          1477197477\n",
       "SA            639134371\n",
       "Tas            83886636\n",
       "Vic          1070472309\n",
       "WA           2964470750\n",
       "Name: Tonnes, dtype: int64"
      ]
     },
     "execution_count": 173,
     "metadata": {},
     "output_type": "execute_result"
    }
   ],
   "source": [
    "agg_sum = filtered_df.groupby(['Jurisdiction'])['Tonnes'].sum()\n",
    "agg_sum"
   ]
  },
  {
   "cell_type": "code",
   "execution_count": 174,
   "id": "17c14528",
   "metadata": {},
   "outputs": [
    {
     "name": "stdout",
     "output_type": "stream",
     "text": [
      "Sum of waste from all states and territories combined is 8676619762 tonnes\n",
      "Total waste in Australia???? 6462452335 tonnes\n"
     ]
    }
   ],
   "source": [
    "other_states = 0\n",
    "for i in range(len(state_tonne_sums)):\n",
    "    if i != 1:\n",
    "        other_states += agg_sum[i]\n",
    "print(f\"Sum of waste from all states and territories combined is {other_states} tonnes\")\n",
    "print(f\"Total waste in Australia???? {state_tonne_sums[1]} tonnes\")"
   ]
  },
  {
   "cell_type": "code",
   "execution_count": 177,
   "id": "79586800",
   "metadata": {},
   "outputs": [
    {
     "ename": "ValueError",
     "evalue": "The truth value of a Series is ambiguous. Use a.empty, a.bool(), a.item(), a.any() or a.all().",
     "output_type": "error",
     "traceback": [
      "\u001b[1;31m---------------------------------------------------------------------------\u001b[0m",
      "\u001b[1;31mValueError\u001b[0m                                Traceback (most recent call last)",
      "Cell \u001b[1;32mIn[177], line 1\u001b[0m\n\u001b[1;32m----> 1\u001b[0m count \u001b[38;5;241m=\u001b[39m (\u001b[43mdf\u001b[49m\u001b[43m[\u001b[49m\u001b[38;5;124;43m'\u001b[39;49m\u001b[38;5;124;43mYear\u001b[39;49m\u001b[38;5;124;43m'\u001b[39;49m\u001b[43m]\u001b[49m\u001b[43m \u001b[49m\u001b[38;5;241;43m==\u001b[39;49m\u001b[43m \u001b[49m\u001b[38;5;124;43m'\u001b[39;49m\u001b[38;5;124;43m2011-2012\u001b[39;49m\u001b[38;5;124;43m'\u001b[39;49m\u001b[43m \u001b[49m\u001b[38;5;129;43;01mand\u001b[39;49;00m\u001b[43m \u001b[49m\u001b[43mdf\u001b[49m\u001b[43m[\u001b[49m\u001b[38;5;124;43m'\u001b[39;49m\u001b[38;5;124;43mTonnes\u001b[39;49m\u001b[38;5;124;43m'\u001b[39;49m\u001b[43m]\u001b[49m\u001b[43m \u001b[49m\u001b[38;5;241;43m!=\u001b[39;49m\u001b[43m \u001b[49m\u001b[38;5;241;43m0\u001b[39;49m)\u001b[38;5;241m.\u001b[39msum()\n",
      "File \u001b[1;32m~\\AppData\\Local\\Programs\\Python\\Python311\\Lib\\site-packages\\pandas\\core\\generic.py:1527\u001b[0m, in \u001b[0;36mNDFrame.__nonzero__\u001b[1;34m(self)\u001b[0m\n\u001b[0;32m   1525\u001b[0m \u001b[38;5;129m@final\u001b[39m\n\u001b[0;32m   1526\u001b[0m \u001b[38;5;28;01mdef\u001b[39;00m \u001b[38;5;21m__nonzero__\u001b[39m(\u001b[38;5;28mself\u001b[39m) \u001b[38;5;241m-\u001b[39m\u001b[38;5;241m>\u001b[39m NoReturn:\n\u001b[1;32m-> 1527\u001b[0m     \u001b[38;5;28;01mraise\u001b[39;00m \u001b[38;5;167;01mValueError\u001b[39;00m(\n\u001b[0;32m   1528\u001b[0m         \u001b[38;5;124mf\u001b[39m\u001b[38;5;124m\"\u001b[39m\u001b[38;5;124mThe truth value of a \u001b[39m\u001b[38;5;132;01m{\u001b[39;00m\u001b[38;5;28mtype\u001b[39m(\u001b[38;5;28mself\u001b[39m)\u001b[38;5;241m.\u001b[39m\u001b[38;5;18m__name__\u001b[39m\u001b[38;5;132;01m}\u001b[39;00m\u001b[38;5;124m is ambiguous. \u001b[39m\u001b[38;5;124m\"\u001b[39m\n\u001b[0;32m   1529\u001b[0m         \u001b[38;5;124m\"\u001b[39m\u001b[38;5;124mUse a.empty, a.bool(), a.item(), a.any() or a.all().\u001b[39m\u001b[38;5;124m\"\u001b[39m\n\u001b[0;32m   1530\u001b[0m     )\n",
      "\u001b[1;31mValueError\u001b[0m: The truth value of a Series is ambiguous. Use a.empty, a.bool(), a.item(), a.any() or a.all()."
     ]
    }
   ],
   "source": [
    "count = ((df['Year'] == '2011-2012') & (df['Tonnes'] != 0)).sum()"
   ]
  },
  {
   "cell_type": "code",
   "execution_count": 176,
   "id": "ab2ba0df",
   "metadata": {},
   "outputs": [
    {
     "data": {
      "text/plain": [
       "3088"
      ]
     },
     "execution_count": 176,
     "metadata": {},
     "output_type": "execute_result"
    }
   ],
   "source": [
    "count"
   ]
  },
  {
   "cell_type": "code",
   "execution_count": null,
   "id": "aa8c937f",
   "metadata": {},
   "outputs": [],
   "source": [
    "cross_tab = pd.crosstab(df['Tonnes'], df['Jurisdiction'])\n",
    "cross_tab\n",
    "#this can be done with whatever 2 variables you desire"
   ]
  },
  {
   "cell_type": "code",
   "execution_count": null,
   "id": "a487e5f8",
   "metadata": {},
   "outputs": [],
   "source": [
    "contingency = pd.crosstab(df['Type'], df['Fate'])\n",
    "chi2, p, dof, expected = chi2_contingency(contingency)\n",
    "print(f\"Chi-Squared Value: {chi2}\")\n",
    "print(f\"P-Value: {p}\")\n",
    "print(f'Degrees of Freedom: {dof}')\n",
    "print(\"Expected Frequencies:\")\n",
    "print(expected)\n",
    "\n",
    "alpha = 0.05  \n",
    "if p < alpha:\n",
    "    print(\"Reject the null hypothesis: There is a significant association between type and fate.\")\n",
    "else:\n",
    "    print(\"Fail to reject the null hypothesis: There is no significant association between type and fate.\")"
   ]
  }
 ],
 "metadata": {
  "kernelspec": {
   "display_name": "Python 3 (ipykernel)",
   "language": "python",
   "name": "python3"
  },
  "language_info": {
   "codemirror_mode": {
    "name": "ipython",
    "version": 3
   },
   "file_extension": ".py",
   "mimetype": "text/x-python",
   "name": "python",
   "nbconvert_exporter": "python",
   "pygments_lexer": "ipython3",
   "version": "3.11.2"
  }
 },
 "nbformat": 4,
 "nbformat_minor": 5
}
